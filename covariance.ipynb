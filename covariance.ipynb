{
 "cells": [
  {
   "cell_type": "code",
   "execution_count": 1,
   "metadata": {
    "collapsed": true
   },
   "outputs": [],
   "source": [
    "import pandas as pd\n",
    "import numpy as np\n",
    "pd.set_eng_float_format(accuracy=3, use_eng_prefix=False)"
   ]
  },
  {
   "cell_type": "code",
   "execution_count": 2,
   "metadata": {
    "collapsed": true
   },
   "outputs": [],
   "source": [
    "raw_data = pd.read_csv('raw_data.csv', index_col=0)"
   ]
  },
  {
   "cell_type": "markdown",
   "metadata": {},
   "source": [
    "# 1"
   ]
  },
  {
   "cell_type": "code",
   "execution_count": 3,
   "metadata": {
    "collapsed": false
   },
   "outputs": [],
   "source": [
    "def covariance(data, horizon = 1):\n",
    "    names = list(data.columns.values)\n",
    "    N = len(data)\n",
    "    X = np.column_stack([data])\n",
    "    X -= X.mean(axis=0) \n",
    "    cov = np.dot(X.T, X.conj()) / N\n",
    "    if horizon == 260:\n",
    "        cov = cov * 260   \n",
    "    cov = pd.DataFrame(cov, index=names, columns=names)\n",
    "    return cov\n",
    "\n",
    "def rolling_cov(data, min_day = 260, max_day = 2600, horizon = 1):\n",
    "    data = data.dropna()\n",
    "    if len(data) < min_day:\n",
    "        print('note enough data')\n",
    "        return 0\n",
    "    else:\n",
    "        cov = []\n",
    "        for i in range(len(data)):\n",
    "            if i < (max_day - min_day):\n",
    "                new = covariance(data.ix[:i+min_day], horizon)\n",
    "            else:\n",
    "                new = covariance(data.ix[(i+min_day-max_day):i+min_day], horizon)\n",
    "            cov.append(new)\n",
    "        cov = pd.Series(cov, index = data.index)\n",
    "    return cov"
   ]
  },
  {
   "cell_type": "code",
   "execution_count": 4,
   "metadata": {
    "collapsed": false
   },
   "outputs": [],
   "source": [
    "N_cov_mat = rolling_cov(raw_data)"
   ]
  },
  {
   "cell_type": "code",
   "execution_count": 5,
   "metadata": {
    "collapsed": false
   },
   "outputs": [
    {
     "data": {
      "text/html": [
       "<div>\n",
       "<table border=\"1\" class=\"dataframe\">\n",
       "  <thead>\n",
       "    <tr style=\"text-align: right;\">\n",
       "      <th></th>\n",
       "      <th>FX_MXN</th>\n",
       "      <th>FX_SGD</th>\n",
       "      <th>FX_ZAR</th>\n",
       "      <th>FX_INR</th>\n",
       "      <th>FX_BRL</th>\n",
       "      <th>FX_TRY</th>\n",
       "    </tr>\n",
       "  </thead>\n",
       "  <tbody>\n",
       "    <tr>\n",
       "      <th>FX_MXN</th>\n",
       "      <td>24.731E-06</td>\n",
       "      <td>-2.539E-06</td>\n",
       "      <td>227.782E-09</td>\n",
       "      <td>-94.498E-09</td>\n",
       "      <td>23.929E-06</td>\n",
       "      <td>10.689E-06</td>\n",
       "    </tr>\n",
       "    <tr>\n",
       "      <th>FX_SGD</th>\n",
       "      <td>-2.539E-06</td>\n",
       "      <td>7.340E-06</td>\n",
       "      <td>5.300E-06</td>\n",
       "      <td>275.107E-09</td>\n",
       "      <td>716.767E-09</td>\n",
       "      <td>-878.357E-09</td>\n",
       "    </tr>\n",
       "    <tr>\n",
       "      <th>FX_ZAR</th>\n",
       "      <td>227.782E-09</td>\n",
       "      <td>5.300E-06</td>\n",
       "      <td>111.054E-06</td>\n",
       "      <td>865.600E-09</td>\n",
       "      <td>16.562E-06</td>\n",
       "      <td>22.571E-06</td>\n",
       "    </tr>\n",
       "    <tr>\n",
       "      <th>FX_INR</th>\n",
       "      <td>-94.498E-09</td>\n",
       "      <td>275.107E-09</td>\n",
       "      <td>865.600E-09</td>\n",
       "      <td>494.696E-09</td>\n",
       "      <td>335.543E-09</td>\n",
       "      <td>-272.049E-09</td>\n",
       "    </tr>\n",
       "    <tr>\n",
       "      <th>FX_BRL</th>\n",
       "      <td>23.929E-06</td>\n",
       "      <td>716.767E-09</td>\n",
       "      <td>16.562E-06</td>\n",
       "      <td>335.543E-09</td>\n",
       "      <td>316.960E-06</td>\n",
       "      <td>29.580E-06</td>\n",
       "    </tr>\n",
       "    <tr>\n",
       "      <th>FX_TRY</th>\n",
       "      <td>10.689E-06</td>\n",
       "      <td>-878.357E-09</td>\n",
       "      <td>22.571E-06</td>\n",
       "      <td>-272.049E-09</td>\n",
       "      <td>29.580E-06</td>\n",
       "      <td>110.137E-06</td>\n",
       "    </tr>\n",
       "  </tbody>\n",
       "</table>\n",
       "</div>"
      ],
      "text/plain": [
       "             FX_MXN       FX_SGD       FX_ZAR       FX_INR       FX_BRL  \\\n",
       "FX_MXN   24.731E-06   -2.539E-06  227.782E-09  -94.498E-09   23.929E-06   \n",
       "FX_SGD   -2.539E-06    7.340E-06    5.300E-06  275.107E-09  716.767E-09   \n",
       "FX_ZAR  227.782E-09    5.300E-06  111.054E-06  865.600E-09   16.562E-06   \n",
       "FX_INR  -94.498E-09  275.107E-09  865.600E-09  494.696E-09  335.543E-09   \n",
       "FX_BRL   23.929E-06  716.767E-09   16.562E-06  335.543E-09  316.960E-06   \n",
       "FX_TRY   10.689E-06 -878.357E-09   22.571E-06 -272.049E-09   29.580E-06   \n",
       "\n",
       "             FX_TRY  \n",
       "FX_MXN   10.689E-06  \n",
       "FX_SGD -878.357E-09  \n",
       "FX_ZAR   22.571E-06  \n",
       "FX_INR -272.049E-09  \n",
       "FX_BRL   29.580E-06  \n",
       "FX_TRY  110.137E-06  "
      ]
     },
     "execution_count": 5,
     "metadata": {},
     "output_type": "execute_result"
    }
   ],
   "source": [
    "N_cov_mat[0]"
   ]
  },
  {
   "cell_type": "markdown",
   "metadata": {},
   "source": [
    "# 2"
   ]
  },
  {
   "cell_type": "code",
   "execution_count": 6,
   "metadata": {
    "collapsed": false
   },
   "outputs": [
    {
     "data": {
      "text/plain": [
       "Index(['2002-01-01 00:00:00', '2002-01-02 00:00:00', '2002-01-03 00:00:00',\n",
       "       '2002-01-04 00:00:00', '2002-01-07 00:00:00', '2002-01-08 00:00:00',\n",
       "       '2002-01-09 00:00:00', '2002-01-10 00:00:00', '2002-01-11 00:00:00',\n",
       "       '2002-01-14 00:00:00',\n",
       "       ...\n",
       "       '2015-12-18 00:00:00', '2015-12-21 00:00:00', '2015-12-22 00:00:00',\n",
       "       '2015-12-23 00:00:00', '2015-12-24 00:00:00', '2015-12-25 00:00:00',\n",
       "       '2015-12-28 00:00:00', '2015-12-29 00:00:00', '2015-12-30 00:00:00',\n",
       "       '2015-12-31 00:00:00'],\n",
       "      dtype='object', length=3653)"
      ]
     },
     "execution_count": 6,
     "metadata": {},
     "output_type": "execute_result"
    }
   ],
   "source": [
    "N_cov_mat.index"
   ]
  },
  {
   "cell_type": "code",
   "execution_count": 7,
   "metadata": {
    "collapsed": true
   },
   "outputs": [],
   "source": [
    "def cov_to_corr(cov_mat):\n",
    "    D = np.sqrt(np.diag(cov_mat))\n",
    "    corr = cov_mat/(np.asmatrix(D).T * np.asmatrix(D))\n",
    "    return corr"
   ]
  },
  {
   "cell_type": "code",
   "execution_count": 8,
   "metadata": {
    "collapsed": true
   },
   "outputs": [],
   "source": [
    "def decomp(N_cov_mat):\n",
    "    corr = []\n",
    "    vol = []\n",
    "    for i in N_cov_mat:\n",
    "        i_vol = np.diag(i)\n",
    "        vol.append(i_vol)\n",
    "        corr.append(cov_to_corr(i))\n",
    "    corr = pd.Series(corr, index = N_cov_mat.index)\n",
    "    vol = pd.Series(vol, index = N_cov_mat.index)\n",
    "    return corr, vol"
   ]
  },
  {
   "cell_type": "code",
   "execution_count": 9,
   "metadata": {
    "collapsed": false
   },
   "outputs": [],
   "source": [
    "corr, vol = decomp(N_cov_mat)"
   ]
  },
  {
   "cell_type": "code",
   "execution_count": 10,
   "metadata": {
    "collapsed": true
   },
   "outputs": [],
   "source": [
    "def vol_floor(N_cov_mat, vol_floor):\n",
    "    N_corr, N_vol = decomp(N_cov_mat)\n",
    "    New_N_cov = []\n",
    "    for i in N_vol.index:\n",
    "        vol = N_vol.ix[i]\n",
    "        vol.flags.writeable = True\n",
    "        vol[vol<vol_floor] = vol_floor\n",
    "        New_N_cov.append(np.dot(np.asmatrix(vol).T , np.asmatrix(vol)) * N_corr.ix[i])\n",
    "    New_N_cov = pd.Series(New_N_cov, index = N_cov_mat.index)\n",
    "    return New_N_cov"
   ]
  },
  {
   "cell_type": "code",
   "execution_count": 11,
   "metadata": {
    "collapsed": false,
    "scrolled": true
   },
   "outputs": [],
   "source": [
    "New_N_cov = vol_floor(N_cov_mat, 0.003)"
   ]
  },
  {
   "cell_type": "code",
   "execution_count": 12,
   "metadata": {
    "collapsed": true
   },
   "outputs": [],
   "source": [
    "weight = [0.3, 0.2, 0.1, 0.1, -0.2, -0.3]"
   ]
  },
  {
   "cell_type": "code",
   "execution_count": 13,
   "metadata": {
    "collapsed": true
   },
   "outputs": [],
   "source": [
    "def ex_ante_vol(N_cov_mat, weight):\n",
    "    weight = np.asmatrix(weight)\n",
    "    N_ex_ante_ext_vol = []\n",
    "    for cov_mat in N_cov_mat:\n",
    "        ex_ante_ext_vol = weight * np.asmatrix(cov_mat) * weight.T\n",
    "        N_ex_ante_ext_vol.append(ex_ante_ext_vol.item())\n",
    "    N_ex_ante_ext_vol = pd.Series(N_ex_ante_ext_vol,index=N_cov_mat.index)\n",
    "    return N_ex_ante_ext_vol"
   ]
  },
  {
   "cell_type": "code",
   "execution_count": 14,
   "metadata": {
    "collapsed": false
   },
   "outputs": [
    {
     "data": {
      "text/plain": [
       "0.00083673206327745464"
      ]
     },
     "execution_count": 14,
     "metadata": {},
     "output_type": "execute_result"
    }
   ],
   "source": [
    "ex_ante_vol(N_cov_mat, weight).ix[0]"
   ]
  },
  {
   "cell_type": "code",
   "execution_count": 15,
   "metadata": {
    "collapsed": true
   },
   "outputs": [],
   "source": [
    "def asset_betas(N_cov_mat, weight):\n",
    "    corr, vol = decomp(N_cov_mat)\n",
    "    N_ex_ante_ext_vol = ex_ante_vol(N_cov_mat, weight)\n",
    "    beta = []\n",
    "    for i in N_cov_mat.index:\n",
    "        beta_ = np.asmatrix(weight) * np.asmatrix(N_cov_mat.ix[i]) / N_ex_ante_ext_vol.ix[i]\n",
    "        beta.append(beta_.tolist()[0])\n",
    "    beta = pd.Series(beta, index=N_cov_mat.index)\n",
    "    return beta"
   ]
  },
  {
   "cell_type": "code",
   "execution_count": 16,
   "metadata": {
    "collapsed": false
   },
   "outputs": [],
   "source": [
    "beta = asset_betas(N_cov_mat, weight)"
   ]
  },
  {
   "cell_type": "code",
   "execution_count": 17,
   "metadata": {
    "collapsed": false
   },
   "outputs": [
    {
     "data": {
      "text/plain": [
       "3653"
      ]
     },
     "execution_count": 17,
     "metadata": {},
     "output_type": "execute_result"
    }
   ],
   "source": [
    "len(beta)"
   ]
  },
  {
   "cell_type": "code",
   "execution_count": 18,
   "metadata": {
    "collapsed": false
   },
   "outputs": [],
   "source": [
    "def mcr(N_cov_mat, weight):\n",
    "    MCR = []\n",
    "    for i in N_cov_mat.index:\n",
    "        numerator = np.asmatrix(N_cov_mat.ix[i]) * np.asmatrix(weight).T\n",
    "        denominator = np.asmatrix(weight) * numerator \n",
    "        MCR_ = np.array(weight) * np.array(numerator.T) * denominator.item()\n",
    "        MCR.append(MCR_)\n",
    "    MCR = pd.Series(MCR, index=N_cov_mat.index)\n",
    "    return MCR"
   ]
  },
  {
   "cell_type": "code",
   "execution_count": 19,
   "metadata": {
    "collapsed": false
   },
   "outputs": [],
   "source": [
    "MCR = mcr(N_cov_mat, weight)"
   ]
  },
  {
   "cell_type": "code",
   "execution_count": 20,
   "metadata": {
    "collapsed": false
   },
   "outputs": [
    {
     "name": "stdout",
     "output_type": "stream",
     "text": [
      "2002-01-01 00:00:00    [[2.23787289292e-07, 1.00393787581e-07, 2.4359...\n",
      "2002-01-02 00:00:00    [[2.23729914672e-07, 1.00383771181e-07, 2.4360...\n",
      "2002-01-03 00:00:00    [[2.23741374361e-07, 1.00385372414e-07, 2.4364...\n",
      "2002-01-04 00:00:00    [[2.23738062432e-07, 1.00371035402e-07, 2.4369...\n",
      "2002-01-07 00:00:00    [[2.23780209712e-07, 1.00381143783e-07, 2.4355...\n",
      "dtype: object\n"
     ]
    }
   ],
   "source": [
    "print(MCR.head())"
   ]
  },
  {
   "cell_type": "markdown",
   "metadata": {},
   "source": [
    "# 3"
   ]
  },
  {
   "cell_type": "code",
   "execution_count": 21,
   "metadata": {
    "collapsed": true
   },
   "outputs": [],
   "source": [
    "def covariance_vol_decay(data, decay = 0.1, horizon = 1):\n",
    "    names = list(data.columns.values)\n",
    "    time = np.arange(len(data))[::-1]\n",
    "    decay = np.power((1 - decay), time)\n",
    "    X = np.column_stack([data])\n",
    "    X -= X.mean(axis=0) \n",
    "    cov = np.dot((X.T * decay), X.conj()) / decay.sum()\n",
    "    if horizon == 260:\n",
    "        cov = cov * 260\n",
    "    cov = pd.DataFrame(cov, index=names, columns=names)\n",
    "    return cov\n",
    "\n",
    "def rolling_cov_vol_decay(data, decay = 0.1, min_day = 260, max_day = 2600, horizon = 1):\n",
    "    data = data.dropna()\n",
    "    if len(data) < min_day:\n",
    "        print('note enough data')\n",
    "        return 0\n",
    "    else:\n",
    "        cov = []\n",
    "        for i in range(len(data)):\n",
    "            if i < (max_day - min_day):\n",
    "                new = covariance_vol_decay(data.ix[:i+min_day], horizon)\n",
    "            else:\n",
    "                new = covariance_vol_decay(data.ix[(i+min_day-max_day):i+min_day], horizon)\n",
    "            cov.append(new)\n",
    "        cov = pd.Series(cov, index = data.index)\n",
    "    return cov"
   ]
  },
  {
   "cell_type": "code",
   "execution_count": 22,
   "metadata": {
    "collapsed": true
   },
   "outputs": [],
   "source": [
    "N_cov_mat_vol_decay = rolling_cov_vol_decay(raw_data)"
   ]
  },
  {
   "cell_type": "code",
   "execution_count": 23,
   "metadata": {
    "collapsed": false
   },
   "outputs": [
    {
     "data": {
      "text/html": [
       "<div>\n",
       "<table border=\"1\" class=\"dataframe\">\n",
       "  <thead>\n",
       "    <tr style=\"text-align: right;\">\n",
       "      <th></th>\n",
       "      <th>FX_MXN</th>\n",
       "      <th>FX_SGD</th>\n",
       "      <th>FX_ZAR</th>\n",
       "      <th>FX_INR</th>\n",
       "      <th>FX_BRL</th>\n",
       "      <th>FX_TRY</th>\n",
       "    </tr>\n",
       "  </thead>\n",
       "  <tbody>\n",
       "    <tr>\n",
       "      <th>FX_MXN</th>\n",
       "      <td>1.958E-06</td>\n",
       "      <td>-1.096E-06</td>\n",
       "      <td>-16.989E-06</td>\n",
       "      <td>-1.565E-06</td>\n",
       "      <td>-9.810E-06</td>\n",
       "      <td>-16.691E-06</td>\n",
       "    </tr>\n",
       "    <tr>\n",
       "      <th>FX_SGD</th>\n",
       "      <td>-1.096E-06</td>\n",
       "      <td>613.831E-09</td>\n",
       "      <td>9.512E-06</td>\n",
       "      <td>876.110E-09</td>\n",
       "      <td>5.492E-06</td>\n",
       "      <td>9.345E-06</td>\n",
       "    </tr>\n",
       "    <tr>\n",
       "      <th>FX_ZAR</th>\n",
       "      <td>-16.989E-06</td>\n",
       "      <td>9.512E-06</td>\n",
       "      <td>147.395E-06</td>\n",
       "      <td>13.576E-06</td>\n",
       "      <td>85.109E-06</td>\n",
       "      <td>144.812E-06</td>\n",
       "    </tr>\n",
       "    <tr>\n",
       "      <th>FX_INR</th>\n",
       "      <td>-1.565E-06</td>\n",
       "      <td>876.110E-09</td>\n",
       "      <td>13.576E-06</td>\n",
       "      <td>1.250E-06</td>\n",
       "      <td>7.839E-06</td>\n",
       "      <td>13.338E-06</td>\n",
       "    </tr>\n",
       "    <tr>\n",
       "      <th>FX_BRL</th>\n",
       "      <td>-9.810E-06</td>\n",
       "      <td>5.492E-06</td>\n",
       "      <td>85.109E-06</td>\n",
       "      <td>7.839E-06</td>\n",
       "      <td>49.144E-06</td>\n",
       "      <td>83.618E-06</td>\n",
       "    </tr>\n",
       "    <tr>\n",
       "      <th>FX_TRY</th>\n",
       "      <td>-16.691E-06</td>\n",
       "      <td>9.345E-06</td>\n",
       "      <td>144.812E-06</td>\n",
       "      <td>13.338E-06</td>\n",
       "      <td>83.618E-06</td>\n",
       "      <td>142.275E-06</td>\n",
       "    </tr>\n",
       "  </tbody>\n",
       "</table>\n",
       "</div>"
      ],
      "text/plain": [
       "            FX_MXN       FX_SGD       FX_ZAR       FX_INR      FX_BRL  \\\n",
       "FX_MXN   1.958E-06   -1.096E-06  -16.989E-06   -1.565E-06  -9.810E-06   \n",
       "FX_SGD  -1.096E-06  613.831E-09    9.512E-06  876.110E-09   5.492E-06   \n",
       "FX_ZAR -16.989E-06    9.512E-06  147.395E-06   13.576E-06  85.109E-06   \n",
       "FX_INR  -1.565E-06  876.110E-09   13.576E-06    1.250E-06   7.839E-06   \n",
       "FX_BRL  -9.810E-06    5.492E-06   85.109E-06    7.839E-06  49.144E-06   \n",
       "FX_TRY -16.691E-06    9.345E-06  144.812E-06   13.338E-06  83.618E-06   \n",
       "\n",
       "             FX_TRY  \n",
       "FX_MXN  -16.691E-06  \n",
       "FX_SGD    9.345E-06  \n",
       "FX_ZAR  144.812E-06  \n",
       "FX_INR   13.338E-06  \n",
       "FX_BRL   83.618E-06  \n",
       "FX_TRY  142.275E-06  "
      ]
     },
     "execution_count": 23,
     "metadata": {},
     "output_type": "execute_result"
    }
   ],
   "source": [
    "N_cov_mat_vol_decay[0]"
   ]
  },
  {
   "cell_type": "markdown",
   "metadata": {},
   "source": [
    "# 4"
   ]
  },
  {
   "cell_type": "code",
   "execution_count": 24,
   "metadata": {
    "collapsed": false
   },
   "outputs": [],
   "source": [
    "def log_likehood(data, cov_mat,lag):\n",
    "    ans = 0\n",
    "    data = data.dropna() # Need further calibration about the index\n",
    "    u = data.mean(axis = 0)\n",
    "    for x in range(lag,len(data)):\n",
    "        temp = -0.5*(np.log(np.linalg.det(cov_mat.ix[x-lag]))+ \\\n",
    "                     np.dot(np.dot((data.ix[x]-u).T,np.mat(cov_mat.ix[x-lag]).I),\\\n",
    "                            (data.ix[x]-u))+6*np.log(2*np.pi))\n",
    "        ans +=temp.item()\n",
    "    return ans"
   ]
  },
  {
   "cell_type": "markdown",
   "metadata": {},
   "source": [
    "# 6"
   ]
  },
  {
   "cell_type": "code",
   "execution_count": 143,
   "metadata": {
    "collapsed": true
   },
   "outputs": [],
   "source": [
    "def covariance_vol_corr_decay(data, vol_decay=0.1, corr_decay=0.1, horizon=1):\n",
    "    names = list(data.columns.values)\n",
    "    time = np.arange(len(data))[::-1]\n",
    "    decay_vol = np.power((1 - vol_decay), time)\n",
    "    decay_corr = np.power((1 - corr_decay), time)\n",
    "    X = np.column_stack([data])\n",
    "    X -= X.mean(axis=0) \n",
    "    cov = np.dot((X.T * decay_corr), X.conj()) / decay_corr.sum()\n",
    "    cov_vol = np.dot((X.T * decay_vol), X.conj()) / decay_vol.sum()\n",
    "    np.fill_diagonal(cov, np.diagonal(cov_vol))\n",
    "    if horizon == 260:\n",
    "        cov = cov * 260\n",
    "    cov = pd.DataFrame(cov, index=names, columns=names)\n",
    "    return cov\n",
    "\n",
    "def rolling_cov_vol_corr_decay(data, vol_decay=0.1, corr_decay=0.1, min_day = 260, max_day = 2600, horizon = 1):\n",
    "    data = data.dropna()\n",
    "    if len(data) < min_day:\n",
    "        print('note enough data')\n",
    "        return 0\n",
    "    else:\n",
    "        cov = []\n",
    "        for i in range(len(data)):\n",
    "            if i < (max_day - min_day):\n",
    "                new = covariance_vol_corr_decay(data.ix[:i+min_day], horizon)\n",
    "            else:\n",
    "                new = covariance_vol_corr_decay(data.ix[(i+min_day-max_day):i+min_day], horizon)\n",
    "            cov.append(new)\n",
    "        cov = pd.Series(cov, index = data.index)\n",
    "    return cov"
   ]
  },
  {
   "cell_type": "code",
   "execution_count": 144,
   "metadata": {
    "collapsed": false
   },
   "outputs": [],
   "source": [
    "N_cov_mat_cov_vol_decay = rolling_cov_vol_corr_decay(raw_data)"
   ]
  },
  {
   "cell_type": "code",
   "execution_count": 145,
   "metadata": {
    "collapsed": false
   },
   "outputs": [
    {
     "data": {
      "text/html": [
       "<div>\n",
       "<table border=\"1\" class=\"dataframe\">\n",
       "  <thead>\n",
       "    <tr style=\"text-align: right;\">\n",
       "      <th></th>\n",
       "      <th>FX_MXN</th>\n",
       "      <th>FX_SGD</th>\n",
       "      <th>FX_ZAR</th>\n",
       "      <th>FX_INR</th>\n",
       "      <th>FX_BRL</th>\n",
       "      <th>FX_TRY</th>\n",
       "    </tr>\n",
       "  </thead>\n",
       "  <tbody>\n",
       "    <tr>\n",
       "      <th>FX_MXN</th>\n",
       "      <td>1.958179e-06</td>\n",
       "      <td>-2.677706e-07</td>\n",
       "      <td>-0.000011</td>\n",
       "      <td>-1.560768e-07</td>\n",
       "      <td>0.000007</td>\n",
       "      <td>-2.562177e-07</td>\n",
       "    </tr>\n",
       "    <tr>\n",
       "      <th>FX_SGD</th>\n",
       "      <td>-2.677706e-07</td>\n",
       "      <td>6.138309e-07</td>\n",
       "      <td>0.000004</td>\n",
       "      <td>2.325848e-07</td>\n",
       "      <td>-0.000001</td>\n",
       "      <td>-8.543529e-09</td>\n",
       "    </tr>\n",
       "    <tr>\n",
       "      <th>FX_ZAR</th>\n",
       "      <td>-1.123044e-05</td>\n",
       "      <td>3.694668e-06</td>\n",
       "      <td>0.000147</td>\n",
       "      <td>2.108137e-06</td>\n",
       "      <td>-0.000013</td>\n",
       "      <td>6.248533e-05</td>\n",
       "    </tr>\n",
       "    <tr>\n",
       "      <th>FX_INR</th>\n",
       "      <td>-1.560768e-07</td>\n",
       "      <td>2.325848e-07</td>\n",
       "      <td>0.000002</td>\n",
       "      <td>1.250456e-06</td>\n",
       "      <td>0.000004</td>\n",
       "      <td>-1.095843e-07</td>\n",
       "    </tr>\n",
       "    <tr>\n",
       "      <th>FX_BRL</th>\n",
       "      <td>7.153219e-06</td>\n",
       "      <td>-1.323966e-06</td>\n",
       "      <td>-0.000013</td>\n",
       "      <td>3.532273e-06</td>\n",
       "      <td>0.000049</td>\n",
       "      <td>-2.466988e-05</td>\n",
       "    </tr>\n",
       "    <tr>\n",
       "      <th>FX_TRY</th>\n",
       "      <td>-2.562177e-07</td>\n",
       "      <td>-8.543529e-09</td>\n",
       "      <td>0.000062</td>\n",
       "      <td>-1.095843e-07</td>\n",
       "      <td>-0.000025</td>\n",
       "      <td>1.422747e-04</td>\n",
       "    </tr>\n",
       "  </tbody>\n",
       "</table>\n",
       "</div>"
      ],
      "text/plain": [
       "              FX_MXN        FX_SGD    FX_ZAR        FX_INR    FX_BRL  \\\n",
       "FX_MXN  1.958179e-06 -2.677706e-07 -0.000011 -1.560768e-07  0.000007   \n",
       "FX_SGD -2.677706e-07  6.138309e-07  0.000004  2.325848e-07 -0.000001   \n",
       "FX_ZAR -1.123044e-05  3.694668e-06  0.000147  2.108137e-06 -0.000013   \n",
       "FX_INR -1.560768e-07  2.325848e-07  0.000002  1.250456e-06  0.000004   \n",
       "FX_BRL  7.153219e-06 -1.323966e-06 -0.000013  3.532273e-06  0.000049   \n",
       "FX_TRY -2.562177e-07 -8.543529e-09  0.000062 -1.095843e-07 -0.000025   \n",
       "\n",
       "              FX_TRY  \n",
       "FX_MXN -2.562177e-07  \n",
       "FX_SGD -8.543529e-09  \n",
       "FX_ZAR  6.248533e-05  \n",
       "FX_INR -1.095843e-07  \n",
       "FX_BRL -2.466988e-05  \n",
       "FX_TRY  1.422747e-04  "
      ]
     },
     "execution_count": 145,
     "metadata": {},
     "output_type": "execute_result"
    }
   ],
   "source": [
    "N_cov_mat_cov_vol_decay[0]"
   ]
  },
  {
   "cell_type": "code",
   "execution_count": null,
   "metadata": {
    "collapsed": true
   },
   "outputs": [],
   "source": []
  }
 ],
 "metadata": {
  "kernelspec": {
   "display_name": "Python 2",
   "language": "python",
   "name": "python2"
  },
  "language_info": {
   "codemirror_mode": {
    "name": "ipython",
    "version": 2
   },
   "file_extension": ".py",
   "mimetype": "text/x-python",
   "name": "python",
   "nbconvert_exporter": "python",
   "pygments_lexer": "ipython2",
   "version": "2.7.10"
  }
 },
 "nbformat": 4,
 "nbformat_minor": 1
}
